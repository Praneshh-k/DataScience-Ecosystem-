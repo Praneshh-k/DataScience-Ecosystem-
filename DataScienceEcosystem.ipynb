{
 "cells": [
  {
   "cell_type": "markdown",
   "id": "764703be-a5f9-4088-8278-05df652ece5f",
   "metadata": {
    "panel-layout": {
     "height": 60.575,
     "visible": true,
     "width": 100
    }
   },
   "source": [
    "# Data Science Tools and Ecosystem"
   ]
  },
  {
   "cell_type": "markdown",
   "id": "5ebbefe9-73a1-43ee-979d-316aac3df37f",
   "metadata": {},
   "source": [
    "In this notebook , Data Science Tools and Ecosystem are summarized"
   ]
  },
  {
   "cell_type": "markdown",
   "id": "b21c3708-8fb8-45e0-895c-f5166d249190",
   "metadata": {},
   "source": [
    "**Objectives:**\n",
    "- List popular languages of Data science\n",
    "- List commonly used libraries\n",
    "- Create a markdown cell with a table of Data Science tool\n",
    "- Create a arthimetic expression markdown cell and code"
   ]
  },
  {
   "cell_type": "markdown",
   "id": "4d285bde-1359-4000-a2ab-123314cb732e",
   "metadata": {},
   "source": [
    "Some of the popular languages that Data Scientists use are:\n",
    "1. Python\n",
    "2. Scala\n",
    "3. Julia\n",
    "4. R"
   ]
  },
  {
   "cell_type": "markdown",
   "id": "f9be5698-e9d0-4674-927c-2796e5a4d2c3",
   "metadata": {},
   "source": [
    "Some of the commonly used libraries used by Data Scientists include:\n",
    "1. Pandas\n",
    "2. NumPy\n",
    "3. MatplotLib\n",
    "4. Scikit-Learn\n",
    "5. ggplot2"
   ]
  },
  {
   "cell_type": "markdown",
   "id": "fc608619-aa27-4ecc-8b0b-7e7554cfa110",
   "metadata": {},
   "source": [
    "| Data Science Tools |\n",
    "|--------------------|\n",
    "|Jupyter Lab|\n",
    "|R Studio|\n",
    "|VS Code|"
   ]
  },
  {
   "cell_type": "markdown",
   "id": "b0ee2e19-f9b9-4a92-8d30-271165a6f6ce",
   "metadata": {},
   "source": [
    "### Below are a few examples of evaluating arithmetic expressions in Python"
   ]
  },
  {
   "cell_type": "code",
   "execution_count": 18,
   "id": "77d9a5e6-3e1a-41dd-8b82-95c97cb91ee5",
   "metadata": {},
   "outputs": [
    {
     "data": {
      "text/plain": [
       "17"
      ]
     },
     "execution_count": 18,
     "metadata": {},
     "output_type": "execute_result"
    }
   ],
   "source": [
    "#This is a simple arithmeic expression to multiply then add integers\n",
    "(3*4)+5"
   ]
  },
  {
   "cell_type": "code",
   "execution_count": 22,
   "id": "4b1ad350-0742-466f-8fb6-4a89fc94ec7f",
   "metadata": {},
   "outputs": [
    {
     "data": {
      "text/plain": [
       "3.3333333333333335"
      ]
     },
     "execution_count": 22,
     "metadata": {},
     "output_type": "execute_result"
    }
   ],
   "source": [
    "#This will convert 200 minutes to hours by dividing by 60\n",
    "200 / 60"
   ]
  },
  {
   "cell_type": "markdown",
   "id": "9d818522-8095-4e11-a208-f9ca58632de1",
   "metadata": {},
   "source": [
    "## Author\n",
    "Pranesh Shankar K"
   ]
  }
 ],
 "metadata": {
  "kernelspec": {
   "display_name": "Python 3 (ipykernel)",
   "language": "python",
   "name": "python3"
  },
  "language_info": {
   "codemirror_mode": {
    "name": "ipython",
    "version": 3
   },
   "file_extension": ".py",
   "mimetype": "text/x-python",
   "name": "python",
   "nbconvert_exporter": "python",
   "pygments_lexer": "ipython3",
   "version": "3.12.4"
  },
  "panel-cell-order": [
   "764703be-a5f9-4088-8278-05df652ece5f",
   "59419fb0-8993-4925-a897-2e3218c0eee4",
   "a6e8d044-3ee6-4135-b7e6-1a379e36f5aa",
   "bfa04b0b-442c-4edf-9710-cff5fc6a5c13",
   "dcf2e541-7b4f-4d47-812b-abe814e8724a"
  ]
 },
 "nbformat": 4,
 "nbformat_minor": 5
}
